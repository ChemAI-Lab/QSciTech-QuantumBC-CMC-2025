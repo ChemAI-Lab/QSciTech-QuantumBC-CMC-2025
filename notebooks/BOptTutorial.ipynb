{
  "nbformat": 4,
  "nbformat_minor": 0,
  "metadata": {
    "colab": {
      "provenance": []
    },
    "kernelspec": {
      "name": "python3",
      "display_name": "Python 3"
    },
    "language_info": {
      "name": "python"
    }
  },
  "cells": [
    {
      "cell_type": "code",
      "execution_count": null,
      "metadata": {
        "id": "7IwbnPIX-94U"
      },
      "outputs": [],
      "source": [
        "#This cell you will need to run it twice (First time will crash)\n",
        "# !pip uninstall tensorflow -y && pip install torchtyping\n",
        "!pip install typing-extensions --upgrade\n",
        "!pip install pennylane update\n",
        "!pip install tqdm\n",
        "!pip install botorch"
      ]
    },
    {
      "cell_type": "code",
      "source": [
        "import pennylane as qml\n",
        "import pennylane.numpy as np\n",
        "import matplotlib.pyplot as plt\n",
        "import time\n",
        "import random\n",
        "import torch\n",
        "import torch.nn as nn\n",
        "from tqdm import tqdm\n",
        "from itertools import  product\n",
        "\n",
        "from tqdm import trange  # <- Progress bar\n",
        "from botorch.models import SingleTaskGP\n",
        "from botorch.fit import fit_gpytorch_mll\n",
        "from botorch.acquisition import ExpectedImprovement, LogExpectedImprovement, UpperConfidenceBound\n",
        "from botorch.optim import optimize_acqf\n",
        "from botorch.utils.transforms import normalize, unnormalize\n",
        "from gpytorch.mlls import ExactMarginalLogLikelihood"
      ],
      "metadata": {
        "id": "zxT_tcRfAn3O"
      },
      "execution_count": null,
      "outputs": []
    },
    {
      "cell_type": "markdown",
      "source": [
        "# Define the Quantum Circuit"
      ],
      "metadata": {
        "id": "yI0Ly_KoPiKa"
      }
    },
    {
      "cell_type": "code",
      "source": [
        "num_qubits = 2\n",
        "\n",
        "# Define the Pauli operators\n",
        "paulis = [qml.PauliX, qml.PauliY, qml.PauliZ]\n",
        "\n",
        "# Generate all ordered pairs (X@X, X@Y, ..., Z@Z)\n",
        "pauli_pairs = list(product(paulis, repeat=2))  # includes asymmetric combinations\n",
        "\n",
        "list_of_observables = [\n",
        "    p1(i) @ p2(i + 1)\n",
        "    for i in range(num_qubits - 1)\n",
        "    for p1, p2 in pauli_pairs\n",
        "]\n",
        "# # Generate all combinations of two Pauli operators (with replacement to allow X@X, Y@Y, etc.)\n",
        "# pauli_pairs = list(combinations_with_replacement(paulis, 2))\n",
        "\n",
        "print(list_of_observables)\n",
        "\n"
      ],
      "metadata": {
        "id": "mT__wZi5AXJv"
      },
      "execution_count": null,
      "outputs": []
    },
    {
      "cell_type": "code",
      "source": [
        "# draw https://docs.pennylane.ai/en/stable/code/api/pennylane.draw.html\n",
        "dev = qml.device(\"lightning.qubit\", wires=num_qubits)\n",
        "@qml.qnode(qml.device('lightning.qubit', wires=num_qubits))\n",
        "def circuit_test(params, **kwargs):\n",
        "    observables = kwargs.pop(\"observable\")\n",
        "    for w in range(num_qubits):\n",
        "        qml.Hadamard(wires=w)\n",
        "        qml.RY(params[w], wires=w)\n",
        "    for w in dev.wires[:-1]:\n",
        "        qml.CNOT(wires=[w, w + 1])\n",
        "    for w in dev.wires:\n",
        "        qml.RZ(params[w + num_qubits], wires=w)\n",
        "    return [qml.expval(o) for o in observables]\n",
        "\n",
        "params = np.random.randn(2 * num_qubits)\n",
        "for o in list_of_observables:\n",
        "    print(qml.draw(circuit_test)(params, observable=[o]))"
      ],
      "metadata": {
        "id": "BYT-bT23Yzpn"
      },
      "execution_count": null,
      "outputs": []
    },
    {
      "cell_type": "code",
      "source": [
        "def get_energy_function():\n",
        "    dev = qml.device(\"lightning.qubit\", wires=num_qubits, shots=10000000)\n",
        "    dev_exact = qml.device(\"lightning.qubit\", wires=num_qubits)\n",
        "\n",
        "    def circuit_base(params, **kwargs):\n",
        "      observables = kwargs.pop(\"observable\")\n",
        "      for w in range(num_qubits):\n",
        "          qml.Hadamard(wires=w)\n",
        "          qml.RY(params[w], wires=w)\n",
        "      for w in dev.wires[:-1]:\n",
        "          qml.CNOT(wires=[w, w + 1])\n",
        "      for w in dev.wires:\n",
        "          qml.RZ(params[w + num_qubits], wires=w)\n",
        "      return [qml.expval(o) for o in observables]\n",
        "\n",
        "    def energy_function(params):\n",
        "        circuit_ex = qml.QNode(circuit_base, dev_exact)\n",
        "        circuit = qml.QNode(circuit_base, dev)\n",
        "        expval_exact = [\n",
        "            circuit_ex(params, observable=[o]) for o in list_of_observables\n",
        "        ]\n",
        "        expval_measurements = [\n",
        "            circuit(params, observable=[o]) for o in list_of_observables\n",
        "        ]\n",
        "        # return np.sum(np.array(expval_exact))\n",
        "        return torch.tensor(np.sum(np.array(expval_exact)),dtype=torch.double)\n",
        "    return energy_function\n",
        "\n",
        "f_energy = get_energy_function()\n"
      ],
      "metadata": {
        "id": "iy_EvWfqAR7m"
      },
      "execution_count": null,
      "outputs": []
    },
    {
      "cell_type": "markdown",
      "source": [
        "# Bayesian Optimization Search"
      ],
      "metadata": {
        "id": "dz7MHStZPk8d"
      }
    },
    {
      "cell_type": "code",
      "source": [
        "def get_BO_trajectory(n_itr, acq_name='UCB'):\n",
        "    # get initial values\n",
        "    d = num_qubits * 2\n",
        "    bounds = torch.stack([-torch.pi*torch.ones(d), torch.pi*torch.ones(d)]).to(torch.double)\n",
        "\n",
        "    train_x = torch.rand((1, d)).double()\n",
        "    train_y = f_energy(train_x[0]).reshape(1,1).double()\n",
        "    print(train_x, train_y)\n",
        "\n",
        "    dim = bounds.shape[1]\n",
        "    bounds_normalized = torch.stack([torch.zeros(dim), torch.ones(dim)])\n",
        "    for iteration in trange(n_itr, desc=\"BO iterations\"):\n",
        "        # Fit GP\n",
        "        model = SingleTaskGP(train_x, train_y)\n",
        "        mll = ExactMarginalLogLikelihood(model.likelihood, model)\n",
        "        fit_gpytorch_mll(mll)\n",
        "\n",
        "        # Acquisition function\n",
        "        if acq_name == 'EI':\n",
        "            acq_f = ExpectedImprovement(model=model, best_f=train_y.min(), maximize=False)\n",
        "        elif acq_name == 'logEI':\n",
        "            acq_f = LogExpectedImprovement(model=model, best_f=train_y.min(), maximize=False)\n",
        "        elif acq_name == 'UCB':\n",
        "            acq_f = UpperConfidenceBound(model=model, beta=0.1, maximize=False) # beta is a hyper parameter\n",
        "\n",
        "        # Optimize acquisition function\n",
        "        candidate, _ = optimize_acqf(\n",
        "            acq_function=acq_f,\n",
        "            bounds=bounds_normalized,\n",
        "            q=1,\n",
        "            num_restarts=5,\n",
        "            raw_samples=20,\n",
        "        )\n",
        "\n",
        "        # Evaluate f_energy at new candidate\n",
        "        new_x = unnormalize(candidate, bounds=bounds)\n",
        "        new_y = f_energy(new_x[0].detach().numpy())\n",
        "\n",
        "        # Update training data\n",
        "        train_x = torch.cat([train_x, candidate])\n",
        "        train_y = torch.cat([train_y, new_y.reshape(1,1)],0)\n",
        "\n",
        "        # Optional: log progress\n",
        "        tqdm.write(f\"Iter {iteration + 1:2d}: y = {new_y.item():.4f} at x = {new_x.numpy()}\")\n",
        "\n",
        "    return train_x.detach().numpy(), train_y.detach().numpy()\n"
      ],
      "metadata": {
        "id": "yVdGDTE0RLGn"
      },
      "execution_count": null,
      "outputs": []
    },
    {
      "cell_type": "code",
      "source": [
        "n_itr = 10\n",
        "trj_x_ucb, trj_y_ucb = get_BO_trajectory(n_itr, acq_name='UCB')"
      ],
      "metadata": {
        "id": "0f8dLSSmRZGr"
      },
      "execution_count": null,
      "outputs": []
    },
    {
      "cell_type": "code",
      "source": [
        "n_itr = 10\n",
        "trj_x_ei, trj_y_ei = get_BO_trajectory(n_itr, acq_name='logEI')"
      ],
      "metadata": {
        "id": "aloYus0aXMDR"
      },
      "execution_count": null,
      "outputs": []
    },
    {
      "cell_type": "markdown",
      "source": [
        "# Inspect the Results"
      ],
      "metadata": {
        "id": "MNeoSrClQeUt"
      }
    },
    {
      "cell_type": "code",
      "source": [
        "import seaborn as sns\n",
        "import matplotlib.pyplot as plt\n",
        "import torch\n",
        "\n",
        "def plot_kde_comparison(train_y_all_1, train_y_all_2, labels=('Method A', 'Method B'), bandwidth=0.2):\n",
        "    \"\"\"\n",
        "    Plot KDE of f_energy values from two different acquisition functions.\n",
        "\n",
        "    Args:\n",
        "        train_y_all_1: list of tensors (n_points, 1), for method 1\n",
        "        train_y_all_2: list of tensors (n_points, 1), for method 2\n",
        "        labels: tuple of two labels for the legend\n",
        "        bandwidth: KDE smoothing parameter\n",
        "    \"\"\"\n",
        "    # Flatten and convert to numpy\n",
        "    y1 = train_y_all_1.flatten()\n",
        "    y2 = train_y_all_2.flatten()\n",
        "\n",
        "    # Colors: use fill+line match\n",
        "    color1 = \"#1b9e77\"  # greenish teal\n",
        "    color2 = \"#d95f02\"  # warm orange\n",
        "\n",
        "    # Plot\n",
        "    plt.figure(figsize=(7, 5))\n",
        "\n",
        "    sns.kdeplot(x=y1, bw_adjust=bandwidth, label=labels[0], color=color1, fill=True, linewidth=2, alpha=0.6)\n",
        "    sns.kdeplot(x=y2, bw_adjust=bandwidth, label=labels[1], color=color2, fill=True, linewidth=2, alpha=0.6)\n",
        "\n",
        "    plt.xlabel(\"Energy\")\n",
        "    plt.ylabel(\"Density\")\n",
        "    plt.legend()\n",
        "\n",
        "    plt.grid(True)\n",
        "    plt.tight_layout()\n",
        "    plt.show()\n",
        "\n",
        "def plot_kde_single(train_y_all_1, labels='Method A', bandwidth=0.2):\n",
        "    \"\"\"\n",
        "    Plot KDE of f_energy values from two different acquisition functions.\n",
        "\n",
        "    Args:\n",
        "        train_y_all_1: list of tensors (n_points, 1), for method 1\n",
        "        train_y_all_2: list of tensors (n_points, 1), for method 2\n",
        "        labels: tuple of two labels for the legend\n",
        "        bandwidth: KDE smoothing parameter\n",
        "    \"\"\"\n",
        "    # Flatten and convert to numpy\n",
        "    y1 = train_y_all_1.flatten()\n",
        "\n",
        "    # Colors: use fill+line match\n",
        "    color1 = \"#1b9e77\"  # greenish teal\n",
        "    color2 = \"#d95f02\"  # warm orange\n",
        "\n",
        "    # Plot\n",
        "    plt.figure(figsize=(7, 5))\n",
        "\n",
        "    sns.kdeplot(x=y1, bw_adjust=bandwidth, label=labels, color=color1, fill=True, linewidth=2, alpha=0.6)\n",
        "\n",
        "    plt.xlabel(\"Energy\")\n",
        "    plt.ylabel(\"Density\")\n",
        "    plt.legend()\n",
        "\n",
        "    plt.grid(True)\n",
        "    plt.tight_layout()\n",
        "    plt.show()"
      ],
      "metadata": {
        "id": "5Y4puLKGXPoo"
      },
      "execution_count": null,
      "outputs": []
    },
    {
      "cell_type": "code",
      "source": [
        "plot_kde_comparison(trj_y_ucb , trj_y_ei, labels=('UCB', 'logEI'), bandwidth=0.3)\n"
      ],
      "metadata": {
        "id": "WPom6uteQg3u"
      },
      "execution_count": null,
      "outputs": []
    },
    {
      "cell_type": "markdown",
      "source": [
        "# BO for H$_2$ minimal-basis UCCSD\n",
        "The Unitary coupled cluster unitary operator within first-order Trotter approximation is: $\\hat{U}(\\vec{\\theta}) =\n",
        "\\prod_{p > r} \\mathrm{exp} \\Big\\{\\theta_{pr}\n",
        "(\\hat{c}_p^\\dagger \\hat{c}_r-\\mathrm{H.c.}) \\Big\\}\n",
        "\\prod_{p > q > r > s} \\mathrm{exp} \\Big\\{\\theta_{pqrs}\n",
        "(\\hat{c}_p^\\dagger \\hat{c}_q^\\dagger \\hat{c}_r \\hat{c}_s-\\mathrm{H.c.}) \\Big\\}$\n",
        "which after employing the Jordan-WIgner transformation becomes:\n",
        "\n",
        "\\begin{split}\\hat{U}(\\vec{\\theta}) = && \\prod_{p > r} \\mathrm{exp} \\Big\\{ \\frac{i\\theta_{pr}}{2}\n",
        "\\bigotimes_{a=r+1}^{p-1} \\hat{Z}_a (\\hat{Y}_r \\hat{X}_p - \\mathrm{H.c.}) \\Big\\} \\\\\n",
        "&& \\times \\prod_{p > q > r > s} \\mathrm{exp} \\Big\\{ \\frac{i\\theta_{pqrs}}{8}\n",
        "\\bigotimes_{b=s+1}^{r-1} \\hat{Z}_b \\bigotimes_{a=q+1}^{p-1}\n",
        "\\hat{Z}_a (\\hat{X}_s \\hat{X}_r \\hat{Y}_q \\hat{X}_p +\n",
        "\\hat{Y}_s \\hat{X}_r \\hat{Y}_q \\hat{Y}_p +\n",
        "\\hat{X}_s \\hat{Y}_r \\hat{Y}_q \\hat{Y}_p +\n",
        "\\hat{X}_s \\hat{X}_r \\hat{X}_q \\hat{Y}_p -\n",
        "\\{\\mathrm{H.c.}\\}) \\Big\\}.\\end{split}\n",
        "\n",
        "The expression looks complicated. Luckily,  we can use Pennylane to directly implement it"
      ],
      "metadata": {
        "id": "IKFnOMcWL0KB"
      }
    },
    {
      "cell_type": "code",
      "source": [
        "import pennylane as qml\n",
        "from pennylane import numpy as np\n",
        "\n",
        "# Define the molecule\n",
        "symbols  = ['H', 'H']\n",
        "geometry = np.array([[0.0,  0.0,  0.0],\n",
        "                     [0.0,  0.0,  1.2]], requires_grad = False)\n",
        "electrons = 2\n",
        "charge = 0\n",
        "\n",
        "# Build the electronic Hamiltonian\n",
        "H, qubits = qml.qchem.molecular_hamiltonian(symbols, geometry, charge=charge)\n",
        "\n",
        "# Define the HF state\n",
        "hf_state = qml.qchem.hf_state(electrons, qubits)\n",
        "\n",
        "# Generate single and double excitations\n",
        "singles, doubles = qml.qchem.excitations(electrons, qubits)\n",
        "\n",
        "# Map excitations to the wires the UCCSD circuit will act on\n",
        "s_wires, d_wires = qml.qchem.excitations_to_wires(singles, doubles)\n",
        "\n",
        "# Define the device\n",
        "dev = qml.device(\"lightning.qubit\", wires=qubits)\n",
        "\n",
        "# Define the qnode\n",
        "@qml.qnode(dev)\n",
        "def circuit(params, wires, s_wires, d_wires, hf_state):\n",
        "    qml.UCCSD(params, wires, s_wires, d_wires, hf_state)\n",
        "    return qml.expval(H)\n",
        "\n",
        "# Define the initial values of the circuit parameters\n",
        "params = np.zeros(len(singles) + len(doubles))\n",
        "\n",
        "# Define the optimizer\n",
        "optimizer = qml.GradientDescentOptimizer(stepsize=0.5)\n",
        "\n",
        "# Optimize the circuit parameters and compute the energy\n",
        "for n in range(40):\n",
        "    params, energy = optimizer.step_and_cost(circuit, params,\n",
        "    wires=range(qubits), s_wires=s_wires, d_wires=d_wires, hf_state=hf_state)\n",
        "    if n % 2 == 0:\n",
        "        print(\"step = {:},  E = {:.8f} Ha\".format(n, energy))\n",
        "print(params)\n"
      ],
      "metadata": {
        "id": "c-Iq9P9YW9-s"
      },
      "execution_count": null,
      "outputs": []
    },
    {
      "cell_type": "code",
      "source": [
        "(qml.draw(circuit)(params, wires=range(qubits), s_wires=s_wires, d_wires=d_wires, hf_state=hf_state))"
      ],
      "metadata": {
        "id": "1WTHAImJP74N"
      },
      "execution_count": null,
      "outputs": []
    },
    {
      "cell_type": "code",
      "source": [
        "print(qml.draw(circuit)(params, wires=range(qubits), s_wires=s_wires, d_wires=d_wires, hf_state=hf_state))"
      ],
      "metadata": {
        "id": "k7XylGF5cUe_"
      },
      "execution_count": null,
      "outputs": []
    },
    {
      "cell_type": "markdown",
      "source": [
        "Now let's see how this is done with Bayesian optimization."
      ],
      "metadata": {
        "id": "eKSSSvxIXrVh"
      }
    },
    {
      "cell_type": "code",
      "source": [
        "def get_energy_function():\n",
        "    # Define the molecule\n",
        "    symbols  = ['H', 'H']\n",
        "    geometry = np.array([[0.0,  0.0,  0.0],\n",
        "                     [0.0,  0.0,  1.2]], requires_grad = False)\n",
        "    electrons = 2\n",
        "    charge = 0\n",
        "\n",
        "    # Build the electronic Hamiltonian\n",
        "    H, qubits = qml.qchem.molecular_hamiltonian(symbols, geometry, charge=charge, basis='sto-3g')\n",
        "\n",
        "    # Define the HF state\n",
        "    hf_state = qml.qchem.hf_state(electrons, qubits)\n",
        "\n",
        "    # Generate single and double excitations\n",
        "    singles, doubles = qml.qchem.excitations(electrons, qubits)\n",
        "\n",
        "    # Map excitations to the wires the UCCSD circuit will act on\n",
        "    s_wires, d_wires = qml.qchem.excitations_to_wires(singles, doubles)\n",
        "    dev = qml.device(\"lightning.qubit\", wires=qubits, shots=1)\n",
        "    dev_exact = qml.device(\"lightning.qubit\", wires=qubits)\n",
        "\n",
        "    def circuit_base(params, wires=range(qubits), s_wires=s_wires, d_wires=d_wires, hf_state=hf_state):\n",
        "        qml.UCCSD(params, wires, s_wires, d_wires, hf_state)\n",
        "        return qml.expval(H)\n",
        "\n",
        "    def energy_function(params):\n",
        "        circuit_ex = qml.QNode(circuit_base, dev_exact)\n",
        "        circuit = qml.QNode(circuit_base, dev)\n",
        "        expval_exact = circuit_ex(params) #circuit_ex(params)\n",
        "\n",
        "        return torch.tensor(expval_exact,dtype=torch.double)\n",
        "        #return torch.tensor(np.sum(np.array(expval_exact)),dtype=torch.double)\n",
        "    return energy_function\n",
        "\n",
        "f_energy = get_energy_function()"
      ],
      "metadata": {
        "id": "glXTlmAMXc7t"
      },
      "execution_count": null,
      "outputs": []
    },
    {
      "cell_type": "code",
      "source": [
        "params = np.zeros(len(singles) + len(doubles))\n",
        "f_energy(params)\n",
        "print(f\"Total number of excitations = {len(singles) + len(doubles)}\")"
      ],
      "metadata": {
        "id": "jKR2homPcIcM"
      },
      "execution_count": null,
      "outputs": []
    },
    {
      "cell_type": "code",
      "source": [
        "def get_BO_trajectory(n_itr, acq_name='UCB'):\n",
        "    # get initial values\n",
        "    d = len(singles) + len(doubles)#num_qubits * 2\n",
        "    bounds = torch.stack([-torch.pi*torch.ones(d), torch.pi*torch.ones(d)]).to(torch.double)\n",
        "\n",
        "    train_x = torch.rand((1, d)).double()\n",
        "    train_y = f_energy(train_x[0]).reshape(1,1).double()\n",
        "\n",
        "    dim = bounds.shape[1]\n",
        "    bounds_normalized = torch.stack([torch.zeros(dim), torch.ones(dim)])\n",
        "    for iteration in trange(n_itr, desc=\"BO iterations\"):\n",
        "        # Fit GP\n",
        "        model = SingleTaskGP(train_x, train_y,)\n",
        "        mll = ExactMarginalLogLikelihood(model.likelihood, model)\n",
        "        fit_gpytorch_mll(mll)\n",
        "\n",
        "        # Acquisition function\n",
        "        if acq_name == 'EI':\n",
        "            acq_f = ExpectedImprovement(model=model, best_f=train_y.min(), maximize=False)\n",
        "        elif acq_name == 'logEI':\n",
        "            acq_f = LogExpectedImprovement(model=model, best_f=train_y.min(), maximize=False)\n",
        "        elif acq_name == 'UCB':\n",
        "            acq_f = UpperConfidenceBound(model=model, beta=0.25, maximize=False) # beta is a hyper parameter\n",
        "\n",
        "        # Optimize acquisition function\n",
        "        candidate, _ = optimize_acqf(\n",
        "            acq_function=acq_f,\n",
        "            bounds=bounds_normalized,\n",
        "            q=1,\n",
        "            num_restarts=5,\n",
        "            raw_samples=20,\n",
        "        )\n",
        "\n",
        "        # Evaluate f_energy at new candidate\n",
        "        new_x = unnormalize(candidate, bounds=bounds)\n",
        "        new_y = f_energy(new_x[0].detach().numpy())\n",
        "\n",
        "        # Update training data\n",
        "        train_x = torch.cat([train_x, candidate])\n",
        "        train_y = torch.cat([train_y, new_y.reshape(1,1)],0)\n",
        "\n",
        "        # Optional: log progress\n",
        "        tqdm.write(f\"Iter {iteration + 1:2d}: y = {new_y.item():.4f} at x = {new_x.numpy()}\")\n",
        "\n",
        "    return train_x.detach().numpy(), train_y.detach().numpy()\n"
      ],
      "metadata": {
        "id": "WpD-COoqcMdD"
      },
      "execution_count": null,
      "outputs": []
    },
    {
      "cell_type": "code",
      "source": [
        "n_itr = 100\n",
        "trj_x_ucb, trj_y_ucb = get_BO_trajectory(n_itr, acq_name='UCB')"
      ],
      "metadata": {
        "id": "cN5zrW9PcxZg"
      },
      "execution_count": null,
      "outputs": []
    },
    {
      "cell_type": "code",
      "source": [
        "n_itr = 100\n",
        "trj_x_ei, trj_y_ei = get_BO_trajectory(n_itr, acq_name='logEI')"
      ],
      "metadata": {
        "id": "qeyymGvJc4RT"
      },
      "execution_count": null,
      "outputs": []
    },
    {
      "cell_type": "code",
      "source": [
        "plot_kde_comparison(trj_y_ucb , trj_y_ei, labels=('UCB', 'logEI'), bandwidth=0.05)"
      ],
      "metadata": {
        "id": "o9M2P5r0hpft"
      },
      "execution_count": null,
      "outputs": []
    },
    {
      "cell_type": "code",
      "source": [
        "plot_kde_single(trj_y_ei, labels='logEI', bandwidth=0.05)"
      ],
      "metadata": {
        "id": "-ogEi_Ziy2vQ"
      },
      "execution_count": null,
      "outputs": []
    },
    {
      "cell_type": "code",
      "source": [
        "print(\"Minimum energy UCB: {} Minimum energy EI: {}\".format(min(trj_y_ucb.flatten()), min(trj_y_ei.flatten())))"
      ],
      "metadata": {
        "id": "6d52wIqcifw7"
      },
      "execution_count": null,
      "outputs": []
    },
    {
      "cell_type": "markdown",
      "source": [
        "We see that the results capture the correct energy :)"
      ],
      "metadata": {
        "id": "y_M_qy4fysGo"
      }
    },
    {
      "cell_type": "code",
      "source": [
        "import os\n",
        "import torch\n",
        "import numpy as np\n",
        "import matplotlib.pyplot as plt\n",
        "from matplotlib import animation\n",
        "from sklearn.decomposition import PCA\n",
        "\n",
        "\n",
        "def animate_bo(train_x_all, train_y_all, bounds, f_energy, fixed_vals=(-np.pi, np.pi), acq_name = 'UCB', filename='bo_animation.mp4', cache_dir='/content/bo_cache'):\n",
        "    \"\"\"\n",
        "    Animate Bayesian Optimization sampling process on a 3D function projected to 2D via PCA.\n",
        "    Includes caching of the grid and PCA projection to speed up repeated calls.\n",
        "    \"\"\"\n",
        "    from IPython.display import HTML\n",
        "    from scipy.interpolate import griddata\n",
        "\n",
        "    train_x_all = unnormalize(torch.tensor(train_x_all), bounds=bounds)\n",
        "    X_train = train_x_all.detach().numpy()\n",
        "    train_y_all = torch.tensor(train_y_all)\n",
        "\n",
        "    # Create a grid\n",
        "    lin = torch.linspace(fixed_vals[0], fixed_vals[1], 25)\n",
        "    X1, X2 = torch.meshgrid(lin, lin, indexing='ij')\n",
        "    X3 = torch.stack([X1.reshape(-1), X2.reshape(-1), torch.ones_like(X2.reshape(-1))], dim=-1)\n",
        "    Xx3 = normalize(X3, bounds=bounds)\n",
        "    pca = PCA(n_components=2)\n",
        "    Z2 = pca.fit_transform(X3)\n",
        "    Z2 = Z2.T\n",
        "    Z2 = torch.tensor(Z2, dtype=torch.float)\n",
        "\n",
        "    Y = []\n",
        "    for xi in X3:\n",
        "        Y.append(f_energy(xi).detach())\n",
        "    Y3 = torch.tensor(Y)\n",
        "    i0 = np.argmin(Y3)\n",
        "    y_best = Y3[i0]\n",
        "    x_best = X3[i0]\n",
        "    Y3 = Y3.reshape(X1.shape)\n",
        "\n",
        "    # Set up figure\n",
        "    fig, axs = plt.subplots(1, 1, figsize=(10, 5))\n",
        "\n",
        "    def animate(i):\n",
        "        axs.cla()\n",
        "\n",
        "\n",
        "        # Plot true function\n",
        "        axs.contourf(lin,lin,Y3)\n",
        "        axs.scatter(X_train[:i,0],X_train[:i,1], c='r', edgecolors='k')\n",
        "        axs.scatter(x_best[0],x_best[1], c='k', edgecolors='k')\n",
        "        axs.set_title(f'True Function, Step {i+1}, {acq_name}')\n",
        "\n",
        "    ani = animation.FuncAnimation(fig, animate, frames=len(train_x_all), interval=500)\n",
        "    plt.close()\n",
        "\n",
        "    return HTML(ani.to_jshtml())\n"
      ],
      "metadata": {
        "id": "e0X6JRlbS63l"
      },
      "execution_count": null,
      "outputs": []
    },
    {
      "cell_type": "code",
      "source": [
        "d = len(singles) + len(doubles)\n",
        "bounds = torch.stack([-torch.pi*torch.ones(d), torch.pi*torch.ones(d)]).to(torch.double)\n",
        "animate_bo(trj_x_ucb, trj_y_ucb, bounds, f_energy, fixed_vals=(-np.pi, np.pi), acq_name ='UCB',filename='bo_animation.mp4', cache_dir='bo_cache')"
      ],
      "metadata": {
        "id": "ETxrp1uiY83M"
      },
      "execution_count": null,
      "outputs": []
    },
    {
      "cell_type": "code",
      "source": [
        "d = len(singles) + len(doubles)\n",
        "bounds = torch.stack([-torch.pi*torch.ones(d), torch.pi*torch.ones(d)]).to(torch.double)\n",
        "animate_bo(trj_x_ei, trj_y_ei, bounds, f_energy, fixed_vals=(-np.pi, np.pi), acq_name ='EI',filename='bo_animation.mp4', cache_dir='bo_cache')"
      ],
      "metadata": {
        "id": "Ln9URpu6rdby"
      },
      "execution_count": null,
      "outputs": []
    }
  ]
}